{
 "cells": [
  {
   "cell_type": "code",
   "execution_count": null,
   "metadata": {},
   "outputs": [],
   "source": [
    "import numpy as np\n",
    "import pandas as pd\n",
    "import matplotlib.pyplot as plt\n",
    "import cv2\n",
    "import os\n",
    "from sklearn.model_selection import train_test_split\n",
    "from sklearn.metrics import accuracy_score\n",
    "from sklearn.decomposition import PCA\n",
    "from sklearn.linear_model import LogisticRegression\n",
    "from sklearn.svm import SVC\n",
    "import warnings"
   ]
  },
  {
   "cell_type": "code",
   "execution_count": null,
   "metadata": {},
   "outputs": [],
   "source": [
    "# Suppress warnings\n",
    "warnings.filterwarnings('ignore')"
   ]
  },
  {
   "cell_type": "code",
   "execution_count": null,
   "metadata": {},
   "outputs": [],
   "source": [
    "# Define classes and their labels\n",
    "classes = {'no_tumor': 0, 'pituitary_tumor': 1}\n"
   ]
  },
  {
   "cell_type": "code",
   "execution_count": null,
   "metadata": {},
   "outputs": [],
   "source": [
    "# Load training data\n",
    "X = []\n",
    "Y = []\n",
    "for cls, label in classes.items():\n",
    "    pth = f'brain_tumor/Training/{cls}'\n",
    "    for j in os.listdir(pth):\n",
    "        img = cv2.imread(os.path.join(pth, j), 0)\n",
    "        img = cv2.resize(img, (200, 200))\n",
    "        X.append(img)\n",
    "        Y.append(label)\n"
   ]
  },
  {
   "cell_type": "code",
   "execution_count": null,
   "metadata": {},
   "outputs": [],
   "source": [
    "X = np.array(X)\n",
    "Y = np.array(Y)"
   ]
  },
  {
   "cell_type": "code",
   "execution_count": null,
   "metadata": {},
   "outputs": [],
   "source": [
    "# Flatten and normalize data\n",
    "X_flatten = X.reshape(len(X), -1) / 255.0\n"
   ]
  },
  {
   "cell_type": "code",
   "execution_count": null,
   "metadata": {},
   "outputs": [],
   "source": [
    "# Split data into training and testing sets\n",
    "xtrain, xtest, ytrain, ytest = train_test_split(X_flatten, Y, random_state=10, test_size=0.20)\n"
   ]
  },
  {
   "cell_type": "code",
   "execution_count": null,
   "metadata": {},
   "outputs": [],
   "source": [
    "# Apply PCA for dimensionality reduction\n",
    "pca = PCA(n_components=0.98)\n",
    "pca_train = pca.fit_transform(xtrain)\n",
    "pca_test = pca.transform(xtest)"
   ]
  },
  {
   "cell_type": "code",
   "execution_count": null,
   "metadata": {},
   "outputs": [],
   "source": [
    "# Train models\n",
    "lg = LogisticRegression(C=0.1)\n",
    "lg.fit(pca_train, ytrain)"
   ]
  },
  {
   "cell_type": "code",
   "execution_count": null,
   "metadata": {},
   "outputs": [],
   "source": [
    "sv = SVC()\n",
    "sv.fit(pca_train, ytrain)"
   ]
  },
  {
   "cell_type": "code",
   "execution_count": null,
   "metadata": {},
   "outputs": [],
   "source": [
    "# Evaluate models\n",
    "print(\"Logistic Regression - Training Score:\", lg.score(pca_train, ytrain))\n",
    "print(\"Logistic Regression - Testing Score:\", lg.score(pca_test, ytest))\n",
    "print(\"SVM - Training Score:\", sv.score(pca_train, ytrain))\n",
    "print(\"SVM - Testing Score:\", sv.score(pca_test, ytest))"
   ]
  },
  {
   "cell_type": "code",
   "execution_count": null,
   "metadata": {},
   "outputs": [],
   "source": [
    "# Visualize misclassified samples\n",
    "pred = sv.predict(pca_test)\n",
    "misclassified = np.where(ytest != pred)\n",
    "print(\"Total Misclassified Samples: \", len(misclassified[0]))"
   ]
  },
  {
   "cell_type": "code",
   "execution_count": null,
   "metadata": {},
   "outputs": [],
   "source": [
    "# Visualize test images and predictions\n",
    "dec = {0: 'No Tumor', 1: 'Positive Tumor'}\n",
    "plt.figure(figsize=(12, 8))\n",
    "test_images_path = 'brain_tumor/Testing/'\n",
    "for cls in classes:\n",
    "    plt.figure(figsize=(12, 8))\n",
    "    pth = os.path.join(test_images_path, cls)\n",
    "    images = os.listdir(pth)[:9] if cls == 'no_tumor' else os.listdir(pth)[:16]\n",
    "    for i, img_file in enumerate(images):\n",
    "        plt.subplot(3 if cls == 'no_tumor' else 4, 4, i + 1)\n",
    "        img = cv2.imread(os.path.join(pth, img_file), 0)\n",
    "        img = cv2.resize(img, (200, 200))\n",
    "        img = img.reshape(1, -1) / 255\n",
    "        p = sv.predict(pca.transform(img))\n",
    "        plt.title(dec[p[0]])\n",
    "        plt.imshow(img, cmap='gray')\n",
    "        plt.axis('off')"
   ]
  },
  {
   "cell_type": "code",
   "execution_count": null,
   "metadata": {},
   "outputs": [],
   "source": [
    "plt.show()"
   ]
  }
 ],
 "metadata": {
  "kernelspec": {
   "display_name": "Python 3 (ipykernel)",
   "language": "python",
   "name": "python3"
  },
  "language_info": {
   "codemirror_mode": {
    "name": "ipython",
    "version": 3
   },
   "file_extension": ".py",
   "mimetype": "text/x-python",
   "name": "python",
   "nbconvert_exporter": "python",
   "pygments_lexer": "ipython3",
   "version": "3.10.9"
  }
 },
 "nbformat": 4,
 "nbformat_minor": 2
}
